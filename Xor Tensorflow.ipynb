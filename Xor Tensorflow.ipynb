{
 "cells": [
  {
   "cell_type": "code",
   "execution_count": 4,
   "metadata": {},
   "outputs": [],
   "source": [
    "import tensorflow as tf\n",
    "import numpy as np\n",
    "import time"
   ]
  },
  {
   "cell_type": "code",
   "execution_count": 24,
   "metadata": {},
   "outputs": [],
   "source": [
    "\n",
    "XOR_X = [[0,0],[0,1],[1,0],[1,1]]\n",
    "XOR_Y = [[0],[1],[1],[0]]\n",
    "\n",
    "#Parameter\n",
    "N_STEPS = 1000\n",
    "N_EPOCH = 1000\n",
    "N_TRAINING = len(XOR_X)\n",
    "\n",
    "N_INPUT_DIM = 2\n",
    "N_HIDDEN_NODES = 5\n",
    "N_OUTPUT_NODES  = 1\n",
    "\n",
    "ACTIVATION = 'tanh' # sigmoid or tanh\n",
    "COST = 'ACE'# MSE or ACE\n",
    "\n",
    "LEARNING_RATE = 0.05\n",
    "\n",
    "\n",
    "\n",
    "x_ = tf.placeholder(tf.float32, shape=[N_TRAINING,N_INPUT_DIM], name = 'x-input')\n",
    "y_ = tf.placeholder(tf.float32, shape=[N_TRAINING,N_OUTPUT_NODES], name = 'y-input')\n",
    "\n",
    "Theta1 = tf.Variable(tf.random_uniform([N_INPUT_DIM,N_HIDDEN_NODES], -1, 1), name = \"Theta1\")\n",
    "Theta2 = tf.Variable(tf.random_uniform([N_HIDDEN_NODES,N_OUTPUT_NODES], -1, 1), name = \"Theta2\")\n",
    "\n",
    "Bias1 = tf.Variable(tf.zeros([N_HIDDEN_NODES]), name = \"Bias1\")\n",
    "\n",
    "Bias2 = tf.Variable(tf.zeros([N_OUTPUT_NODES]), name = \"Bias2\")\n"
   ]
  },
  {
   "cell_type": "code",
   "execution_count": 23,
   "metadata": {},
   "outputs": [
    {
     "name": "stdout",
     "output_type": "stream",
     "text": [
      "Epoch  0\n",
      "Output  [[0.6131849 ]\n",
      " [0.6492015 ]\n",
      " [0.6078208 ]\n",
      " [0.64319474]]\n",
      "Theta1  [[ 0.24115683  0.7353528   0.45046473 -0.37217176  0.78960174]\n",
      " [ 0.14618799  0.19233082  0.33336812  0.771606    0.5273586 ]]\n",
      "Bias1  [-0.00035426  0.00024833  0.00013902 -0.00114448 -0.00043412]\n",
      "Theta2  [[ 0.21675779]\n",
      " [-0.17663881]\n",
      " [-0.0987881 ]\n",
      " [ 0.64401513]\n",
      " [ 0.3498719 ]]\n",
      "Bias2  [-0.00663315]\n",
      "cost  0.7275653\n",
      "Elapsed time  0.06692167321716624\n"
     ]
    }
   ],
   "source": [
    "\n",
    "\n",
    "with tf.name_scope(\"layer2\") as scope:\n",
    "    Layer1 = tf.sigmoid(tf.matmul(x_, Theta1) + Bias1)\n",
    "\n",
    "with tf.name_scope(\"layer3\") as scope:\n",
    "    Output = tf.sigmoid(tf.matmul(Layer1, Theta2) + Bias2)\n",
    "\n",
    "    \n",
    "with tf.name_scope(\"cost\") as scope:\n",
    "    cost = tf.reduce_mean(( (y_ * tf.log(Output)) + ((1 - y_) * tf.log(1.0 - Output)) ) * -1)\n",
    "\n",
    "with tf.name_scope(\"train\") as scope:\n",
    "    train_step = tf.train.GradientDescentOptimizer(LEARNING_RATE).minimize(cost)\n",
    "\n",
    "\n",
    "\n",
    "init = tf.global_variables_initializer()\n",
    "sess = tf.Session()\n",
    "\n",
    "writer = tf.summary.FileWriter(\"./logs/xor_logs\", sess.graph)\n",
    "\n",
    "sess.run(init)\n",
    "\n",
    "t_start = time.clock()\n",
    "for i in range(N_STEPS):\n",
    "    sess.run(train_step, feed_dict={x_: XOR_X, y_: XOR_Y})\n",
    "    if i % N_EPOCH == 0:\n",
    "        print('Epoch ', i)\n",
    "        print('Output ', sess.run(Output, feed_dict={x_: XOR_X, y_: XOR_Y}))\n",
    "        print('Theta1 ', sess.run(Theta1))\n",
    "        print('Bias1 ', sess.run(Bias1))\n",
    "        print('Theta2 ', sess.run(Theta2))\n",
    "        print('Bias2 ', sess.run(Bias2))\n",
    "        print('cost ', sess.run(cost, feed_dict={x_: XOR_X, y_: XOR_Y}))\n",
    "        \n",
    "        t_end = time.clock()\n",
    "print('Elapsed time ', t_end - t_start)\n"
   ]
  },
  {
   "cell_type": "code",
   "execution_count": null,
   "metadata": {},
   "outputs": [],
   "source": []
  }
 ],
 "metadata": {
  "kernelspec": {
   "display_name": "Python 3",
   "language": "python",
   "name": "python3"
  },
  "language_info": {
   "codemirror_mode": {
    "name": "ipython",
    "version": 3
   },
   "file_extension": ".py",
   "mimetype": "text/x-python",
   "name": "python",
   "nbconvert_exporter": "python",
   "pygments_lexer": "ipython3",
   "version": "3.5.5"
  }
 },
 "nbformat": 4,
 "nbformat_minor": 2
}
